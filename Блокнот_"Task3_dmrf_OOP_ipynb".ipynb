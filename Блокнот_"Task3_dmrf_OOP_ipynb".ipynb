{
  "cells": [
    {
      "cell_type": "markdown",
      "metadata": {
        "id": "view-in-github",
        "colab_type": "text"
      },
      "source": [
        "<a href=\"https://colab.research.google.com/github/ElenaSavelyeva/DataScience_SavelyevaElena/blob/main/%D0%91%D0%BB%D0%BE%D0%BA%D0%BD%D0%BE%D1%82_%22Task3_dmrf_OOP_ipynb%22.ipynb\" target=\"_parent\"><img src=\"https://colab.research.google.com/assets/colab-badge.svg\" alt=\"Open In Colab\"/></a>"
      ]
    },
    {
      "cell_type": "markdown",
      "source": [
        "[![Open In Colab](https://colab.research.google.com/assets/colab-badge.svg)](https://colab.research.google.com/github/4vel/python-intro/blob/main/Hometask/Task3_dmrf_OOP.ipynb)"
      ],
      "metadata": {
        "collapsed": false,
        "pycharm": {
          "name": "#%% md\n"
        },
        "id": "SNpiJ56Rg6pU"
      }
    },
    {
      "cell_type": "markdown",
      "source": [
        "# Задание\n",
        "\n",
        "* Реализовать в ООП - формате задания 1 и 2\n",
        "\n",
        "### Справочно:\n",
        "Задание 1\n",
        "* Собрать информацию о всех строящихся объектах на сайте \"наш.дом.рф\"\n",
        "* Cохранить ее в pandas dataframe\n",
        "* Cохранить pandas dataframe в pickle\n",
        "* Cохранить pandas dataframe в excel\n",
        "* Cохранить pandas dataframe в БД\n",
        "\n",
        "Задание 2\n",
        "* Используя данные об объектах недвижимости на сайте “наш.дом.рф” или cian.ru, провести мини-исследование рынка строящейся/готовой недвижимости в одном или нескольких регионах с помощью pandas, matplotlib, seaborn, plotly и других инструментов.\n",
        "<b> Идеи для мини-исследования </b>\n",
        "* Рассчитать средние цены за квадратный метр по регионам. Важно чтобы пропуски не учитывались при расчете средней цены.\n",
        "* Рассчитать объемы вводимого жилья по регионам и по годам.\n",
        "* Сравнить этажность домов, количество квартир, жилую площадь, количество парковочных мест и цену за квадратный метр в разных регионах.\n",
        "* Визуализировать разброс, связь, доли, распределение этих показателей по регионам.\n",
        "* Сделать выводы по каждому из расчетов и графиков\n"
      ],
      "metadata": {
        "collapsed": false,
        "pycharm": {
          "name": "#%% md\n"
        },
        "id": "E-0QGU9Hg6pY"
      }
    },
    {
      "cell_type": "code",
      "execution_count": null,
      "outputs": [],
      "source": [
        "# Ваш код здесь..."
      ],
      "metadata": {
        "pycharm": {
          "name": "#%%\n"
        },
        "ExecuteTime": {
          "end_time": "2024-07-08T14:29:37.765426Z",
          "start_time": "2024-07-08T14:29:37.762100Z"
        },
        "id": "A61kadyGg6pa"
      }
    },
    {
      "cell_type": "code",
      "execution_count": null,
      "outputs": [],
      "source": [
        "class DataLoader():\n",
        "  def __init__(self,name,url,path):\n",
        "    self.url = url\n",
        "    self.name = name\n",
        "    self.path = path\n",
        "\n",
        "  def load_data():\n",
        "    return self.url\n",
        "\n",
        "  def save_file(self,file_name):\n",
        "    with open(file_name,'r') as file:\n",
        "      file.to_excel(file)\n",
        "\n"
      ],
      "metadata": {
        "id": "qFwtKKXeg6pb"
      }
    },
    {
      "cell_type": "code",
      "source": [
        "url = f'https://xn--80az8a.xn--d1aqf.xn--p1ai/%D1%81%D0%B5%D1%80%D0%B2%D0%B8%D1%81%D1%8B/api/object/29679'"
      ],
      "metadata": {
        "id": "rErJBwjV6-vE"
      },
      "execution_count": null,
      "outputs": []
    },
    {
      "cell_type": "code",
      "source": [
        "file_name = 'df_nashfomrf.pkl'"
      ],
      "metadata": {
        "id": "79aHpSwx7FPU"
      },
      "execution_count": null,
      "outputs": []
    },
    {
      "cell_type": "code",
      "source": [
        "my_file.save_file(file_name)"
      ],
      "metadata": {
        "id": "CilK8Dss7Mjy",
        "outputId": "0bfd83c2-ec60-4093-b347-6c2bd643d360",
        "colab": {
          "base_uri": "https://localhost:8080/",
          "height": 146
        }
      },
      "execution_count": null,
      "outputs": [
        {
          "output_type": "error",
          "ename": "NameError",
          "evalue": "name 'my_file' is not defined",
          "traceback": [
            "\u001b[0;31m---------------------------------------------------------------------------\u001b[0m",
            "\u001b[0;31mNameError\u001b[0m                                 Traceback (most recent call last)",
            "\u001b[0;32m<ipython-input-5-fb664632d8d9>\u001b[0m in \u001b[0;36m<cell line: 1>\u001b[0;34m()\u001b[0m\n\u001b[0;32m----> 1\u001b[0;31m \u001b[0mmy_file\u001b[0m\u001b[0;34m.\u001b[0m\u001b[0msave_file\u001b[0m\u001b[0;34m(\u001b[0m\u001b[0mfile_name\u001b[0m\u001b[0;34m)\u001b[0m\u001b[0;34m\u001b[0m\u001b[0;34m\u001b[0m\u001b[0m\n\u001b[0m",
            "\u001b[0;31mNameError\u001b[0m: name 'my_file' is not defined"
          ]
        }
      ]
    },
    {
      "cell_type": "code",
      "source": [
        "class Visulaiser_average():\n",
        "  def __init__(self,average):\n",
        "    self.average = average\n",
        "    self.price = price\n",
        "    self.total_meters = total_meters\n",
        "\n",
        "  def get_average(self,average):\n",
        "    average = price/total_meters\n",
        "\n",
        "  def make_average_price(self,df_average_price):\n",
        "   from pylab import rcParams\n",
        "   rcParams['figure.figsize'] = 75,55\n",
        "   df_average_price.plot(kind='barh')\n",
        "   plt.show\n",
        "\n",
        "  def make_floor_district(self):\n",
        "   sns.catplot(\n",
        "     x='district',\n",
        "     y='floors_count',\n",
        "     data=df.query(\"floors_count > 5\"),\n",
        "     order = ['Адлерский','Центральный','Лазаревский','Хостинский'],\n",
        "     height=4,\n",
        "     aspect=2);\n",
        "\n"
      ],
      "metadata": {
        "id": "XTAIlctv7NT0"
      },
      "execution_count": null,
      "outputs": []
    },
    {
      "cell_type": "code",
      "source": [
        "price = 100"
      ],
      "metadata": {
        "id": "grLoxiKO7YxT"
      },
      "execution_count": null,
      "outputs": []
    },
    {
      "cell_type": "code",
      "source": [
        "total_meters = 300\n",
        "\n"
      ],
      "metadata": {
        "id": "22tz0TqS7cXM"
      },
      "execution_count": null,
      "outputs": []
    },
    {
      "cell_type": "code",
      "source": [
        "average = price/total_meters"
      ],
      "metadata": {
        "id": "DfqBQVaU7eu5"
      },
      "execution_count": null,
      "outputs": []
    },
    {
      "cell_type": "code",
      "source": [
        "grafic = Visulaiser_average(average)"
      ],
      "metadata": {
        "id": "sLitautO7iaQ"
      },
      "execution_count": null,
      "outputs": []
    },
    {
      "cell_type": "code",
      "source": [
        "grafic.make_average_price"
      ],
      "metadata": {
        "id": "EsGegTbi7kzV",
        "outputId": "d2baa19c-647a-47a0-eb61-01fe78fd6463",
        "colab": {
          "base_uri": "https://localhost:8080/",
          "height": 103
        }
      },
      "execution_count": null,
      "outputs": [
        {
          "output_type": "execute_result",
          "data": {
            "text/plain": [
              "<bound method Visulaiser_average.make_average_price of <__main__.Visulaiser_average object at 0x79493fcda470>>"
            ],
            "text/html": [
              "<div style=\"max-width:800px; border: 1px solid var(--colab-border-color);\"><style>\n",
              "      pre.function-repr-contents {\n",
              "        overflow-x: auto;\n",
              "        padding: 8px 12px;\n",
              "        max-height: 500px;\n",
              "      }\n",
              "\n",
              "      pre.function-repr-contents.function-repr-contents-collapsed {\n",
              "        cursor: pointer;\n",
              "        max-height: 100px;\n",
              "      }\n",
              "    </style>\n",
              "    <pre style=\"white-space: initial; background:\n",
              "         var(--colab-secondary-surface-color); padding: 8px 12px;\n",
              "         border-bottom: 1px solid var(--colab-border-color);\"><b>Visulaiser_average.make_average_price</b><br/>def make_average_price(df_average_price)</pre><pre class=\"function-repr-contents function-repr-contents-collapsed\" style=\"\"><a class=\"filepath\" style=\"display:none\" href=\"#\">/content/&lt;ipython-input-6-16a8ae2117fc&gt;</a>&lt;no docstring&gt;</pre></div>"
            ]
          },
          "metadata": {},
          "execution_count": 11
        }
      ]
    },
    {
      "cell_type": "code",
      "source": [
        "grafic.make_floor_district"
      ],
      "metadata": {
        "id": "uTR2KOyR7nxf",
        "outputId": "acb8c216-a2d8-49f5-8df5-cb23dc0dc507",
        "colab": {
          "base_uri": "https://localhost:8080/",
          "height": 103
        }
      },
      "execution_count": null,
      "outputs": [
        {
          "output_type": "execute_result",
          "data": {
            "text/plain": [
              "<bound method Visulaiser_average.make_floor_district of <__main__.Visulaiser_average object at 0x79493fcda470>>"
            ],
            "text/html": [
              "<div style=\"max-width:800px; border: 1px solid var(--colab-border-color);\"><style>\n",
              "      pre.function-repr-contents {\n",
              "        overflow-x: auto;\n",
              "        padding: 8px 12px;\n",
              "        max-height: 500px;\n",
              "      }\n",
              "\n",
              "      pre.function-repr-contents.function-repr-contents-collapsed {\n",
              "        cursor: pointer;\n",
              "        max-height: 100px;\n",
              "      }\n",
              "    </style>\n",
              "    <pre style=\"white-space: initial; background:\n",
              "         var(--colab-secondary-surface-color); padding: 8px 12px;\n",
              "         border-bottom: 1px solid var(--colab-border-color);\"><b>Visulaiser_average.make_floor_district</b><br/>def make_floor_district()</pre><pre class=\"function-repr-contents function-repr-contents-collapsed\" style=\"\"><a class=\"filepath\" style=\"display:none\" href=\"#\">/content/&lt;ipython-input-6-16a8ae2117fc&gt;</a>&lt;no docstring&gt;</pre></div>"
            ]
          },
          "metadata": {},
          "execution_count": 12
        }
      ]
    }
  ],
  "metadata": {
    "kernelspec": {
      "display_name": "Python 3",
      "language": "python",
      "name": "python3"
    },
    "language_info": {
      "codemirror_mode": {
        "name": "ipython",
        "version": 2
      },
      "file_extension": ".py",
      "mimetype": "text/x-python",
      "name": "python",
      "nbconvert_exporter": "python",
      "pygments_lexer": "ipython2",
      "version": "2.7.6"
    },
    "colab": {
      "provenance": [],
      "include_colab_link": true
    }
  },
  "nbformat": 4,
  "nbformat_minor": 0
}